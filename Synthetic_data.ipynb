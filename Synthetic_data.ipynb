{
 "cells": [
  {
   "cell_type": "code",
   "execution_count": 3,
   "id": "historical-length",
   "metadata": {
    "id": "historical-length"
   },
   "outputs": [],
   "source": [
    "from tqdm import tqdm\n",
    "import numpy as np\n",
    "import os\n",
    "import pandas as pd\n",
    "from sklearn.datasets import make_blobs"
   ]
  },
  {
   "cell_type": "markdown",
   "id": "bfc96d44",
   "metadata": {},
   "source": [
    "# Data generation"
   ]
  },
  {
   "cell_type": "code",
   "execution_count": 2,
   "id": "930e770c",
   "metadata": {},
   "outputs": [],
   "source": [
    "root_synth = 'data/synthetic/'\n",
    "os.makedirs(root_synth, exist_ok=True)"
   ]
  },
  {
   "cell_type": "markdown",
   "id": "70e20dce",
   "metadata": {},
   "source": [
    "### With clusters"
   ]
  },
  {
   "cell_type": "code",
   "execution_count": 3,
   "id": "df2c8914",
   "metadata": {},
   "outputs": [
    {
     "name": "stderr",
     "output_type": "stream",
     "text": [
      "3it [00:03,  1.32s/it]\n"
     ]
    }
   ],
   "source": [
    "ADD_NOISE = True\n",
    "N = 3000\n",
    "\n",
    "np.random.seed(42)\n",
    "for i,n_clust in tqdm(enumerate([2,3,4])):\n",
    "    for j,dim in enumerate([53,96,180]):\n",
    "        \n",
    "        label = f'C{n_clust}_d_{dim}'\n",
    "\n",
    "        # make data\n",
    "        centers = np.pad(np.eye(n_clust), pad_width=((0,0),(0,dim - n_clust)))*2\n",
    "        centers += np.random.randn(*centers.shape)*1\n",
    "        X,y = make_blobs(n_samples=int(N*0.9), n_features=dim, centers=centers, cluster_std=0.5)\n",
    "        if ADD_NOISE:\n",
    "            X_ = X-X.mean(0)\n",
    "            cov = (X_).T@X_/(X.shape[0]-1)\n",
    "            cov_ = np.zeros_like(cov)\n",
    "            cov_[np.diag_indices_from(cov)] = np.sqrt(cov[np.diag_indices_from(cov)])*2\n",
    "            X_noise = np.random.multivariate_normal(X.mean(0), cov_, size=int(N*0.1))\n",
    "\n",
    "            y_noise = np.zeros((int(N*0.1),))\n",
    "            y_noise += max(y) + 1 # add separate class for the noise\n",
    "            X = np.concatenate([X,X_noise])\n",
    "            y = np.concatenate((y, y_noise))\n",
    "\n",
    "        df = pd.DataFrame(X)\n",
    "        df['target'] = y\n",
    "        name = f'clust{n_clust}_dim{dim}'\n",
    "        dataset_path = os.path.join(root_synth, name)\n",
    "        df.to_csv(dataset_path)"
   ]
  },
  {
   "cell_type": "markdown",
   "id": "6236ddec",
   "metadata": {},
   "source": [
    "### Without clusters"
   ]
  },
  {
   "cell_type": "code",
   "execution_count": 52,
   "id": "0cee3854",
   "metadata": {},
   "outputs": [],
   "source": [
    "from sklearn.preprocessing import StandardScaler, PolynomialFeatures\n",
    "from sklearn.decomposition import PCA\n",
    "from umap import UMAP\n",
    "from matplotlib import pyplot as plt"
   ]
  },
  {
   "cell_type": "code",
   "execution_count": 58,
   "id": "b11eb417",
   "metadata": {},
   "outputs": [],
   "source": [
    "pf_gen = PolynomialFeatures(degree=3, include_bias=False)\n",
    "X = np.random.randn(3000,2)\n",
    "X_poly = pf_gen.fit_transform(X)\n",
    "dim = X_poly.shape[1]\n",
    "W = np.random.randn(dim, dim)\n",
    "W /= np.linalg.norm(W, axis=0, keepdims=True)\n",
    "X_poly = X_poly@W"
   ]
  },
  {
   "cell_type": "code",
   "execution_count": 59,
   "id": "c4de24c1",
   "metadata": {},
   "outputs": [
    {
     "data": {
      "text/plain": [
       "[<matplotlib.lines.Line2D at 0x7fd0d65abb20>]"
      ]
     },
     "execution_count": 59,
     "metadata": {},
     "output_type": "execute_result"
    },
    {
     "data": {
      "image/png": "[encoded data removed]",
      "text/plain": [
       "<Figure size 432x288 with 1 Axes>"
      ]
     },
     "metadata": {
      "needs_background": "light"
     },
     "output_type": "display_data"
    }
   ],
   "source": [
    "pca = PCA()\n",
    "pca.fit(X_poly)\n",
    "ev_cumsum = np.cumsum(pca.explained_variance_ratio_)\n",
    "dim_pca = (np.arange(dim)[ev_cumsum > 0.99])[0]\n",
    "plt.plot(ev_cumsum)"
   ]
  },
  {
   "cell_type": "code",
   "execution_count": 62,
   "id": "7c7fe5f8",
   "metadata": {},
   "outputs": [],
   "source": [
    "Z_pca = PCA(n_components=dim_pca, whiten=False).fit_transform(X_poly) #X_poly@(pca.components_[:6].T)\n",
    "Z_umap = UMAP().fit_transform(Z_pca)"
   ]
  },
  {
   "cell_type": "code",
   "execution_count": 63,
   "id": "e0162353",
   "metadata": {},
   "outputs": [
    {
     "data": {
      "text/plain": [
       "<matplotlib.collections.PathCollection at 0x7fd0d5badc40>"
      ]
     },
     "execution_count": 63,
     "metadata": {},
     "output_type": "execute_result"
    },
    {
     "data": {
      "image/png": "[encoded data removed]",
      "text/plain": [
       "<Figure size 432x288 with 1 Axes>"
      ]
     },
     "metadata": {
      "needs_background": "light"
     },
     "output_type": "display_data"
    }
   ],
   "source": [
    "plt.scatter(Z_umap[:,0], Z_umap[:,1])"
   ]
  },
  {
   "cell_type": "code",
   "execution_count": null,
   "id": "cbcc9596",
   "metadata": {},
   "outputs": [],
   "source": [
    "# ADD_NOISE = True\n",
    "# N = 3000\n",
    "# N_trials = 10\n",
    "# pf_gen = PolynomialFeatures(degree=3, include_bias=False)\n",
    "\n",
    "# np.random.seed(42)\n",
    "# for i,n_trial in tqdm(range(10)):\n",
    "#     for j,dim in enumerate([53,96,180]):\n",
    "        \n",
    "#         label = f'C1_d_{dim}'\n",
    "        \n",
    "#         X = np.random.randn()\n",
    "#         inpt_poly = pf_gen.fit_transform(X.T).T\n",
    "#         W = np.random.randn(3,9)\n",
    "#         W /= np.linalg.norm(W, axis=1, keepdims=True)\n",
    "#         # Z = np.tanh(W@inpt_poly)\n",
    "#         Z = W@inpt_poly\n",
    "\n",
    "#         Z = StandardScaler().fit_transform(Z.T).T\n",
    "        \n",
    "#         df = pd.DataFrame(X)\n",
    "#         df['target'] = np.zeros(N)\n",
    "#         name = f'clust0_dim{dim}'\n",
    "#         dataset_path = os.path.join(root_synth, name)\n",
    "#         df.to_csv(dataset_path)"
   ]
  }
 ],
 "metadata": {
  "colab": {
   "name": "Synthetic_data.ipynb",
   "provenance": []
  },
  "kernelspec": {
   "display_name": "Python 3 (ipykernel)",
   "language": "python",
   "name": "python3"
  },
  "language_info": {
   "codemirror_mode": {
    "name": "ipython",
    "version": 3
   },
   "file_extension": ".py",
   "mimetype": "text/x-python",
   "name": "python",
   "nbconvert_exporter": "python",
   "pygments_lexer": "ipython3",
   "version": "3.8.13"
  }
 },
 "nbformat": 4,
 "nbformat_minor": 5
}
