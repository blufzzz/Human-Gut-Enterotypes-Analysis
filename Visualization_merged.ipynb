{
 "cells": [
  {
   "cell_type": "code",
   "execution_count": null,
   "metadata": {},
   "outputs": [],
   "source": [
    "import os\n",
    "import numpy as np\n",
    "import pandas as pd\n",
    "from collections import defaultdict\n",
    "from sklearn.manifold import TSNE\n",
    "from umap import UMAP\n",
    "\n",
    "from MulticoreTSNE import MulticoreTSNE as mTSNE\n",
    "from sklearn.neighbors import LocalOutlierFactor\n",
    "import matplotlib.pyplot as plt\n",
    "from mpl_toolkits.mplot3d import Axes3D \n",
    "\n",
    "# change to %matplotlib notebook to rotate plots\n",
    "%matplotlib inline \n",
    "plt.rcParams.update({'font.size': 20, 'axes.titley':1})"
   ]
  },
  {
   "cell_type": "markdown",
   "metadata": {},
   "source": [
    "# Merged"
   ]
  },
  {
   "cell_type": "code",
   "execution_count": null,
   "metadata": {},
   "outputs": [],
   "source": [
    "data = defaultdict(dict)\n",
    "\n",
    "RARITY_THRESHOLD = 0.01\n",
    "STD_THRESHOLD = 1e-3\n",
    "\n",
    "tax = 'g'\n",
    "df_AGP = pd.read_csv(f'./data_processed/AGP_{tax}.csv', delimiter=',', index_col=0)\n",
    "df_HMP = pd.read_csv(f'./data_processed/HMP_{tax}.csv', delimiter=',', index_col=0)\n",
    "\n",
    "n_AGP = df_AGP.shape[0]\n",
    "n_HMP = df_HMP.shape[0]\n",
    "y = np.zeros(n_AGP + n_HMP)\n",
    "y[n_AGP:] = 1\n",
    "df = pd.merge(df_AGP, df_HMP, how = 'outer', sort=True).fillna(0)\n",
    "N = df.shape[0]"
   ]
  },
  {
   "cell_type": "markdown",
   "metadata": {},
   "source": [
    "# t-SNE"
   ]
  },
  {
   "cell_type": "code",
   "execution_count": null,
   "metadata": {},
   "outputs": [],
   "source": [
    "vis_root = f'results/vis/'\n",
    "\n",
    "if not os.path.exists(vis_root):\n",
    "    os.makedirs(vis_root)"
   ]
  },
  {
   "cell_type": "code",
   "execution_count": null,
   "metadata": {},
   "outputs": [],
   "source": [
    "tsne_path = os.path.join(vis_root, f'tsne_3d_merged_tax-{tax}')\n",
    "\n",
    "if os.path.isfile(tsne_path + '.npy'):\n",
    "    Z_tsne = np.load(tsne_path + '.npy', allow_pickle=True)\n",
    "else:\n",
    "\n",
    "    tsne = mTSNE(n_components=3, \n",
    "                perplexity=35,\n",
    "                angle=0.5, \n",
    "                early_exaggeration=18,\n",
    "                n_jobs=-1, \n",
    "                n_iter=1000,\n",
    "                random_state=42)\n",
    "\n",
    "    Z_tsne = tsne.fit_transform(df)\n",
    "    np.save(tsne_path, Z_tsne)"
   ]
  },
  {
   "cell_type": "code",
   "execution_count": null,
   "metadata": {
    "scrolled": false
   },
   "outputs": [],
   "source": [
    "fig = plt.figure(figsize=(10,10), dpi=300)\n",
    "ax = plt.axes(projection=\"3d\")\n",
    "Z = Z_tsne\n",
    "AGP_mask = np.arange(Z.shape[0]) < 9511\n",
    "ax.scatter3D(Z[:, 0][AGP_mask], Z[:, 1][AGP_mask], Z[:, 2][AGP_mask], color = 'red', s = 3, label='AGP', alpha=0.4)\n",
    "ax.scatter3D(Z[:, 0][~AGP_mask], Z[:, 1][~AGP_mask], Z[:, 2][~AGP_mask], color = 'green', s = 3, label='HMP',alpha=0.4)\n",
    "plt.title(f\"t-SNE embedding \\n of all datasets, Tax: {tax.capitalize()}\", fontsize=20)\n",
    "plt.legend(markerscale=5, bbox_to_anchor=(1.0, 0.93)) \n",
    "ax.set_zticklabels([])\n",
    "ax.set_xticklabels([])\n",
    "ax.set_yticklabels([])\n",
    "ax.grid(True)\n",
    "plt.show()"
   ]
  },
  {
   "cell_type": "code",
   "execution_count": null,
   "metadata": {},
   "outputs": [],
   "source": [
    "Z_umap = UMAP(n_neighbors=40, \n",
    "              n_components=3,\n",
    "              n_epochs=1000,\n",
    "              min_dist=0.0, \n",
    "              learning_rate=1, \n",
    "              n_jobs=-1,\n",
    "              random_state=42).fit_transform(df)\n",
    "np.save(os.path.join(vis_root, f'umap_3d_merged_tax-{tax}'), Z_umap)"
   ]
  },
  {
   "cell_type": "code",
   "execution_count": null,
   "metadata": {},
   "outputs": [],
   "source": [
    "lof_mask = LocalOutlierFactor(n_neighbors=30, contamination=0.15).fit_predict(Z_umap) == 1"
   ]
  },
  {
   "cell_type": "code",
   "execution_count": null,
   "metadata": {},
   "outputs": [],
   "source": [
    "fig = plt.figure(figsize=(10,10), dpi=300) \n",
    "ax = plt.axes(projection =\"3d\")\n",
    "Z = Z_umap\n",
    "AGP_mask = np.arange(Z.shape[0]) < 9511\n",
    "ax.scatter3D(Z[:, 0][AGP_mask], Z[:, 1][AGP_mask], Z[:, 2][AGP_mask], color = 'red', s = 3, label='AGP', alpha=0.4)\n",
    "ax.scatter3D(Z[:, 0][~AGP_mask], Z[:, 1][~AGP_mask], Z[:, 2][~AGP_mask], color = 'green', s = 3, label='HMP',alpha=0.4)\n",
    "plt.title(f\"UMAP embedding \\n of all datasets, Tax: {tax.capitalize()}\", fontsize=20)\n",
    "plt.legend(markerscale=5, bbox_to_anchor=(1.0, 0.93))\n",
    "ax.set_zticklabels([])\n",
    "ax.set_xticklabels([])\n",
    "ax.set_yticklabels([])\n",
    "ax.grid(True)\n",
    "ax.view_init(azim=45)\n",
    "plt.show()"
   ]
  }
 ],
 "metadata": {
  "kernelspec": {
   "display_name": "Python 3 (ipykernel)",
   "language": "python",
   "name": "python3"
  },
  "language_info": {
   "codemirror_mode": {
    "name": "ipython",
    "version": 3
   },
   "file_extension": ".py",
   "mimetype": "text/x-python",
   "name": "python",
   "nbconvert_exporter": "python",
   "pygments_lexer": "ipython3",
   "version": "3.8.13"
  }
 },
 "nbformat": 4,
 "nbformat_minor": 4
}
