{
 "cells": [
  {
   "cell_type": "code",
   "execution_count": 10,
   "metadata": {},
   "outputs": [],
   "source": [
    "import numpy as np\n",
    "import os\n",
    "import glob\n",
    "import pandas as pd\n",
    "from sklearn.manifold import Isomap,\\\n",
    "                            LocallyLinearEmbedding,\\\n",
    "                            SpectralEmbedding,\\\n",
    "                            TSNE,\\\n",
    "                            locally_linear_embedding\n",
    "from umap import UMAP\n",
    "from tqdm import tqdm\n",
    "from collections import defaultdict\n",
    "from sklearn.model_selection import ParameterGrid\n",
    "\n",
    "from joblib import Parallel, delayed\n",
    "import matplotlib.pyplot as plt\n",
    "from utils import transform, calculate_Q_mae, KNN_MAE\n",
    "\n",
    "import warnings\n",
    "warnings.simplefilter(\"ignore\")"
   ]
  },
  {
   "cell_type": "markdown",
   "metadata": {},
   "source": [
    "# Load data"
   ]
  },
  {
   "cell_type": "code",
   "execution_count": 2,
   "metadata": {},
   "outputs": [],
   "source": [
    "intrinsic_dims = np.load(f'./intrinsic_dims_pca_strict.npy', allow_pickle=True).item()\n",
    "\n",
    "data_orig = {}\n",
    "for dataset_name in tqdm(['AGP', 'HMP']):\n",
    "    for tax in ['o', 'f', 'g']: \n",
    "        dataframe = pd.read_csv(f'./data_processed/{dataset_name}_{tax}.csv', sep=',')\n",
    "        label = f'{dataset_name}_{tax}'\n",
    "        data_orig[label] = dataframe.drop('Unnamed: 0', axis=1).values\n",
    "\n",
    "data_pca = {}\n",
    "for dataset_name in tqdm(['AGP', 'HMP']):\n",
    "    for tax in ['o', 'f', 'g']: \n",
    "        label = f'{dataset_name}_{tax}'\n",
    "        data_pca[label] = np.genfromtxt(f'./results/pca/{label}', delimiter=';')\n",
    "        \n",
    "embeddings_root = 'results/embeddings'\n",
    "embeddings_params_root'results/embeddings_params/'\n",
    "\n",
    "os.makedirs(embeddings_root, exist_ok=True)\n",
    "os.makedirs(embeddings_params_root, exist_ok=True)"
   ]
  },
  {
   "cell_type": "code",
   "execution_count": 3,
   "metadata": {},
   "outputs": [
    {
     "name": "stderr",
     "output_type": "stream",
     "text": [
      "100%|██████████████████████████████████████████████████████████████████████████████████████████████████████████████████████████████████████████| 9/9 [00:02<00:00,  3.05it/s]\n"
     ]
    }
   ],
   "source": [
    "# # uncomment to use synthetic data\n",
    "\n",
    "# intrinsic_dims = np.load(f'./intrinsic_dims_pca_strict_synthetic.npy', allow_pickle=True).item()\n",
    "\n",
    "# data_orig = {}\n",
    "# for path in glob.glob('data_processed/synthetic/*'):\n",
    "#     dataframe = pd.read_csv(path, index_col=0)\n",
    "#     label = path.split('/')[-1].split('.')[0]\n",
    "#     data_orig[label] = dataframe.values\n",
    "\n",
    "# data_pca = {}\n",
    "# for path in tqdm(glob.glob('./results/pca/synthetic/*')):\n",
    "#     label = path.split('/')[-1]\n",
    "#     data_pca[label] = np.genfromtxt(path, delimiter = ';')\n",
    "\n",
    "    \n",
    "# embeddings_root = 'results/embeddings_synthetic'\n",
    "# embeddings_params_root = 'results/embeddings_params_synthetic/'\n",
    "\n",
    "# os.makedirs(embeddings_root, exist_ok=True)\n",
    "# os.makedirs(embeddings_params_root, exist_ok=True)"
   ]
  },
  {
   "cell_type": "markdown",
   "metadata": {},
   "source": [
    "# Hyperparameters Grid Search"
   ]
  },
  {
   "cell_type": "code",
   "execution_count": 4,
   "metadata": {},
   "outputs": [],
   "source": [
    "knn_mae_scorer = lambda *args: KNN_MAE(*args, averaging='median', weights='distance', n_neighbors=4)\n",
    "scorer = lambda *args: calculate_Q_mae(*args, mae_scorer=knn_mae_scorer)"
   ]
  },
  {
   "cell_type": "code",
   "execution_count": 7,
   "metadata": {},
   "outputs": [
    {
     "name": "stderr",
     "output_type": "stream",
     "text": [
      "\r",
      "0it [00:00, ?it/s]"
     ]
    },
    {
     "name": "stdout",
     "output_type": "stream",
     "text": [
      "clust2_dim53 27 lle\n"
     ]
    },
    {
     "name": "stderr",
     "output_type": "stream",
     "text": [
      "/media/tom/ibulygin/miniconda3/envs/microbiome2/lib/python3.9/site-packages/sklearn/manifold/_locally_linear.py:467: RuntimeWarning: invalid value encountered in double_scalars\n",
      "  alpha_i = np.linalg.norm(Vi.sum(0)) / np.sqrt(s_i)\n",
      "/media/tom/ibulygin/miniconda3/envs/microbiome2/lib/python3.9/site-packages/sklearn/manifold/_locally_linear.py:467: RuntimeWarning: invalid value encountered in double_scalars\n",
      "  alpha_i = np.linalg.norm(Vi.sum(0)) / np.sqrt(s_i)\n",
      "/media/tom/ibulygin/miniconda3/envs/microbiome2/lib/python3.9/site-packages/sklearn/manifold/_locally_linear.py:467: RuntimeWarning: invalid value encountered in double_scalars\n",
      "  alpha_i = np.linalg.norm(Vi.sum(0)) / np.sqrt(s_i)\n",
      "/media/tom/ibulygin/miniconda3/envs/microbiome2/lib/python3.9/site-packages/sklearn/manifold/_locally_linear.py:467: RuntimeWarning: invalid value encountered in double_scalars\n",
      "  alpha_i = np.linalg.norm(Vi.sum(0)) / np.sqrt(s_i)\n",
      "/media/tom/ibulygin/miniconda3/envs/microbiome2/lib/python3.9/site-packages/sklearn/manifold/_locally_linear.py:467: RuntimeWarning: invalid value encountered in double_scalars\n",
      "  alpha_i = np.linalg.norm(Vi.sum(0)) / np.sqrt(s_i)\n",
      "/media/tom/ibulygin/miniconda3/envs/microbiome2/lib/python3.9/site-packages/sklearn/manifold/_locally_linear.py:467: RuntimeWarning: invalid value encountered in double_scalars\n",
      "  alpha_i = np.linalg.norm(Vi.sum(0)) / np.sqrt(s_i)\n",
      "/media/tom/ibulygin/miniconda3/envs/microbiome2/lib/python3.9/site-packages/sklearn/manifold/_locally_linear.py:467: RuntimeWarning: invalid value encountered in double_scalars\n",
      "  alpha_i = np.linalg.norm(Vi.sum(0)) / np.sqrt(s_i)\n",
      "/media/tom/ibulygin/miniconda3/envs/microbiome2/lib/python3.9/site-packages/sklearn/manifold/_locally_linear.py:467: RuntimeWarning: invalid value encountered in double_scalars\n",
      "  alpha_i = np.linalg.norm(Vi.sum(0)) / np.sqrt(s_i)\n",
      "/media/tom/ibulygin/miniconda3/envs/microbiome2/lib/python3.9/site-packages/sklearn/manifold/_locally_linear.py:467: RuntimeWarning: invalid value encountered in double_scalars\n",
      "  alpha_i = np.linalg.norm(Vi.sum(0)) / np.sqrt(s_i)\n",
      "1it [00:58, 58.93s/it]"
     ]
    },
    {
     "name": "stdout",
     "output_type": "stream",
     "text": [
      "clust3_dim96 36 lle\n"
     ]
    },
    {
     "name": "stderr",
     "output_type": "stream",
     "text": [
      "/media/tom/ibulygin/miniconda3/envs/microbiome2/lib/python3.9/site-packages/sklearn/manifold/_locally_linear.py:467: RuntimeWarning: invalid value encountered in double_scalars\n",
      "  alpha_i = np.linalg.norm(Vi.sum(0)) / np.sqrt(s_i)\n",
      "/media/tom/ibulygin/miniconda3/envs/microbiome2/lib/python3.9/site-packages/sklearn/manifold/_locally_linear.py:467: RuntimeWarning: invalid value encountered in double_scalars\n",
      "  alpha_i = np.linalg.norm(Vi.sum(0)) / np.sqrt(s_i)\n",
      "/media/tom/ibulygin/miniconda3/envs/microbiome2/lib/python3.9/site-packages/sklearn/manifold/_locally_linear.py:467: RuntimeWarning: invalid value encountered in double_scalars\n",
      "  alpha_i = np.linalg.norm(Vi.sum(0)) / np.sqrt(s_i)\n",
      "/media/tom/ibulygin/miniconda3/envs/microbiome2/lib/python3.9/site-packages/sklearn/manifold/_locally_linear.py:467: RuntimeWarning: invalid value encountered in double_scalars\n",
      "  alpha_i = np.linalg.norm(Vi.sum(0)) / np.sqrt(s_i)\n",
      "/media/tom/ibulygin/miniconda3/envs/microbiome2/lib/python3.9/site-packages/sklearn/manifold/_locally_linear.py:467: RuntimeWarning: invalid value encountered in double_scalars\n",
      "  alpha_i = np.linalg.norm(Vi.sum(0)) / np.sqrt(s_i)\n",
      "/media/tom/ibulygin/miniconda3/envs/microbiome2/lib/python3.9/site-packages/sklearn/manifold/_locally_linear.py:467: RuntimeWarning: invalid value encountered in double_scalars\n",
      "  alpha_i = np.linalg.norm(Vi.sum(0)) / np.sqrt(s_i)\n",
      "/media/tom/ibulygin/miniconda3/envs/microbiome2/lib/python3.9/site-packages/sklearn/manifold/_locally_linear.py:467: RuntimeWarning: invalid value encountered in double_scalars\n",
      "  alpha_i = np.linalg.norm(Vi.sum(0)) / np.sqrt(s_i)\n",
      "/media/tom/ibulygin/miniconda3/envs/microbiome2/lib/python3.9/site-packages/sklearn/manifold/_locally_linear.py:467: RuntimeWarning: invalid value encountered in double_scalars\n",
      "  alpha_i = np.linalg.norm(Vi.sum(0)) / np.sqrt(s_i)\n",
      "/media/tom/ibulygin/miniconda3/envs/microbiome2/lib/python3.9/site-packages/sklearn/manifold/_locally_linear.py:467: RuntimeWarning: invalid value encountered in double_scalars\n",
      "  alpha_i = np.linalg.norm(Vi.sum(0)) / np.sqrt(s_i)\n",
      "/media/tom/ibulygin/miniconda3/envs/microbiome2/lib/python3.9/site-packages/sklearn/manifold/_locally_linear.py:467: RuntimeWarning: invalid value encountered in double_scalars\n",
      "  alpha_i = np.linalg.norm(Vi.sum(0)) / np.sqrt(s_i)\n",
      "/media/tom/ibulygin/miniconda3/envs/microbiome2/lib/python3.9/site-packages/sklearn/manifold/_locally_linear.py:467: RuntimeWarning: invalid value encountered in double_scalars\n",
      "  alpha_i = np.linalg.norm(Vi.sum(0)) / np.sqrt(s_i)\n",
      "/media/tom/ibulygin/miniconda3/envs/microbiome2/lib/python3.9/site-packages/sklearn/manifold/_locally_linear.py:467: RuntimeWarning: invalid value encountered in double_scalars\n",
      "  alpha_i = np.linalg.norm(Vi.sum(0)) / np.sqrt(s_i)\n",
      "2it [01:53, 56.28s/it]"
     ]
    },
    {
     "name": "stdout",
     "output_type": "stream",
     "text": [
      "clust2_dim96 38 lle\n"
     ]
    },
    {
     "name": "stderr",
     "output_type": "stream",
     "text": [
      "/media/tom/ibulygin/miniconda3/envs/microbiome2/lib/python3.9/site-packages/sklearn/manifold/_locally_linear.py:467: RuntimeWarning: invalid value encountered in double_scalars\n",
      "  alpha_i = np.linalg.norm(Vi.sum(0)) / np.sqrt(s_i)\n",
      "/media/tom/ibulygin/miniconda3/envs/microbiome2/lib/python3.9/site-packages/sklearn/manifold/_locally_linear.py:467: RuntimeWarning: invalid value encountered in double_scalars\n",
      "  alpha_i = np.linalg.norm(Vi.sum(0)) / np.sqrt(s_i)\n",
      "/media/tom/ibulygin/miniconda3/envs/microbiome2/lib/python3.9/site-packages/sklearn/manifold/_locally_linear.py:467: RuntimeWarning: invalid value encountered in double_scalars\n",
      "  alpha_i = np.linalg.norm(Vi.sum(0)) / np.sqrt(s_i)\n",
      "/media/tom/ibulygin/miniconda3/envs/microbiome2/lib/python3.9/site-packages/sklearn/manifold/_locally_linear.py:467: RuntimeWarning: invalid value encountered in double_scalars\n",
      "  alpha_i = np.linalg.norm(Vi.sum(0)) / np.sqrt(s_i)\n",
      "/media/tom/ibulygin/miniconda3/envs/microbiome2/lib/python3.9/site-packages/sklearn/manifold/_locally_linear.py:467: RuntimeWarning: invalid value encountered in double_scalars\n",
      "  alpha_i = np.linalg.norm(Vi.sum(0)) / np.sqrt(s_i)\n",
      "/media/tom/ibulygin/miniconda3/envs/microbiome2/lib/python3.9/site-packages/sklearn/manifold/_locally_linear.py:467: RuntimeWarning: invalid value encountered in double_scalars\n",
      "  alpha_i = np.linalg.norm(Vi.sum(0)) / np.sqrt(s_i)\n",
      "/media/tom/ibulygin/miniconda3/envs/microbiome2/lib/python3.9/site-packages/sklearn/manifold/_locally_linear.py:467: RuntimeWarning: invalid value encountered in double_scalars\n",
      "  alpha_i = np.linalg.norm(Vi.sum(0)) / np.sqrt(s_i)\n",
      "/media/tom/ibulygin/miniconda3/envs/microbiome2/lib/python3.9/site-packages/sklearn/manifold/_locally_linear.py:467: RuntimeWarning: invalid value encountered in double_scalars\n",
      "  alpha_i = np.linalg.norm(Vi.sum(0)) / np.sqrt(s_i)\n",
      "/media/tom/ibulygin/miniconda3/envs/microbiome2/lib/python3.9/site-packages/sklearn/manifold/_locally_linear.py:467: RuntimeWarning: invalid value encountered in double_scalars\n",
      "  alpha_i = np.linalg.norm(Vi.sum(0)) / np.sqrt(s_i)\n",
      "/media/tom/ibulygin/miniconda3/envs/microbiome2/lib/python3.9/site-packages/sklearn/manifold/_locally_linear.py:467: RuntimeWarning: invalid value encountered in double_scalars\n",
      "  alpha_i = np.linalg.norm(Vi.sum(0)) / np.sqrt(s_i)\n",
      "/media/tom/ibulygin/miniconda3/envs/microbiome2/lib/python3.9/site-packages/sklearn/manifold/_locally_linear.py:467: RuntimeWarning: invalid value encountered in double_scalars\n",
      "  alpha_i = np.linalg.norm(Vi.sum(0)) / np.sqrt(s_i)\n",
      "/media/tom/ibulygin/miniconda3/envs/microbiome2/lib/python3.9/site-packages/sklearn/manifold/_locally_linear.py:467: RuntimeWarning: invalid value encountered in double_scalars\n",
      "  alpha_i = np.linalg.norm(Vi.sum(0)) / np.sqrt(s_i)\n",
      "3it [02:47, 55.32s/it]"
     ]
    },
    {
     "name": "stdout",
     "output_type": "stream",
     "text": [
      "clust3_dim53 26 lle\n"
     ]
    },
    {
     "name": "stderr",
     "output_type": "stream",
     "text": [
      "\r",
      "4it [03:38, 53.62s/it]"
     ]
    },
    {
     "name": "stdout",
     "output_type": "stream",
     "text": [
      "clust4_dim180 48 lle\n"
     ]
    },
    {
     "name": "stderr",
     "output_type": "stream",
     "text": [
      "/media/tom/ibulygin/miniconda3/envs/microbiome2/lib/python3.9/site-packages/sklearn/manifold/_locally_linear.py:467: RuntimeWarning: invalid value encountered in double_scalars\n",
      "  alpha_i = np.linalg.norm(Vi.sum(0)) / np.sqrt(s_i)\n",
      "/media/tom/ibulygin/miniconda3/envs/microbiome2/lib/python3.9/site-packages/sklearn/manifold/_locally_linear.py:467: RuntimeWarning: invalid value encountered in double_scalars\n",
      "  alpha_i = np.linalg.norm(Vi.sum(0)) / np.sqrt(s_i)\n",
      "/media/tom/ibulygin/miniconda3/envs/microbiome2/lib/python3.9/site-packages/sklearn/manifold/_locally_linear.py:467: RuntimeWarning: invalid value encountered in double_scalars\n",
      "  alpha_i = np.linalg.norm(Vi.sum(0)) / np.sqrt(s_i)\n",
      "/media/tom/ibulygin/miniconda3/envs/microbiome2/lib/python3.9/site-packages/sklearn/manifold/_locally_linear.py:467: RuntimeWarning: invalid value encountered in double_scalars\n",
      "  alpha_i = np.linalg.norm(Vi.sum(0)) / np.sqrt(s_i)\n",
      "/media/tom/ibulygin/miniconda3/envs/microbiome2/lib/python3.9/site-packages/sklearn/manifold/_locally_linear.py:467: RuntimeWarning: invalid value encountered in double_scalars\n",
      "  alpha_i = np.linalg.norm(Vi.sum(0)) / np.sqrt(s_i)\n",
      "/media/tom/ibulygin/miniconda3/envs/microbiome2/lib/python3.9/site-packages/sklearn/manifold/_locally_linear.py:467: RuntimeWarning: invalid value encountered in double_scalars\n",
      "  alpha_i = np.linalg.norm(Vi.sum(0)) / np.sqrt(s_i)\n",
      "/media/tom/ibulygin/miniconda3/envs/microbiome2/lib/python3.9/site-packages/sklearn/manifold/_locally_linear.py:467: RuntimeWarning: invalid value encountered in double_scalars\n",
      "  alpha_i = np.linalg.norm(Vi.sum(0)) / np.sqrt(s_i)\n",
      "/media/tom/ibulygin/miniconda3/envs/microbiome2/lib/python3.9/site-packages/sklearn/manifold/_locally_linear.py:467: RuntimeWarning: invalid value encountered in double_scalars\n",
      "  alpha_i = np.linalg.norm(Vi.sum(0)) / np.sqrt(s_i)\n",
      "/media/tom/ibulygin/miniconda3/envs/microbiome2/lib/python3.9/site-packages/sklearn/manifold/_locally_linear.py:467: RuntimeWarning: invalid value encountered in double_scalars\n",
      "  alpha_i = np.linalg.norm(Vi.sum(0)) / np.sqrt(s_i)\n",
      "/media/tom/ibulygin/miniconda3/envs/microbiome2/lib/python3.9/site-packages/sklearn/manifold/_locally_linear.py:467: RuntimeWarning: invalid value encountered in double_scalars\n",
      "  alpha_i = np.linalg.norm(Vi.sum(0)) / np.sqrt(s_i)\n",
      "/media/tom/ibulygin/miniconda3/envs/microbiome2/lib/python3.9/site-packages/sklearn/manifold/_locally_linear.py:467: RuntimeWarning: invalid value encountered in double_scalars\n",
      "  alpha_i = np.linalg.norm(Vi.sum(0)) / np.sqrt(s_i)\n",
      "/media/tom/ibulygin/miniconda3/envs/microbiome2/lib/python3.9/site-packages/sklearn/manifold/_locally_linear.py:467: RuntimeWarning: invalid value encountered in double_scalars\n",
      "  alpha_i = np.linalg.norm(Vi.sum(0)) / np.sqrt(s_i)\n",
      "5it [04:40, 56.77s/it]"
     ]
    },
    {
     "name": "stdout",
     "output_type": "stream",
     "text": [
      "clust2_dim180 53 lle\n"
     ]
    },
    {
     "name": "stderr",
     "output_type": "stream",
     "text": [
      "/media/tom/ibulygin/miniconda3/envs/microbiome2/lib/python3.9/site-packages/sklearn/manifold/_locally_linear.py:467: RuntimeWarning: invalid value encountered in double_scalars\n",
      "  alpha_i = np.linalg.norm(Vi.sum(0)) / np.sqrt(s_i)\n",
      "/media/tom/ibulygin/miniconda3/envs/microbiome2/lib/python3.9/site-packages/sklearn/manifold/_locally_linear.py:467: RuntimeWarning: invalid value encountered in double_scalars\n",
      "  alpha_i = np.linalg.norm(Vi.sum(0)) / np.sqrt(s_i)\n",
      "/media/tom/ibulygin/miniconda3/envs/microbiome2/lib/python3.9/site-packages/sklearn/manifold/_locally_linear.py:467: RuntimeWarning: invalid value encountered in double_scalars\n",
      "  alpha_i = np.linalg.norm(Vi.sum(0)) / np.sqrt(s_i)\n",
      "/media/tom/ibulygin/miniconda3/envs/microbiome2/lib/python3.9/site-packages/sklearn/manifold/_locally_linear.py:467: RuntimeWarning: invalid value encountered in double_scalars\n",
      "  alpha_i = np.linalg.norm(Vi.sum(0)) / np.sqrt(s_i)\n",
      "/media/tom/ibulygin/miniconda3/envs/microbiome2/lib/python3.9/site-packages/sklearn/manifold/_locally_linear.py:467: RuntimeWarning: invalid value encountered in double_scalars\n",
      "  alpha_i = np.linalg.norm(Vi.sum(0)) / np.sqrt(s_i)\n",
      "/media/tom/ibulygin/miniconda3/envs/microbiome2/lib/python3.9/site-packages/sklearn/manifold/_locally_linear.py:467: RuntimeWarning: invalid value encountered in double_scalars\n",
      "  alpha_i = np.linalg.norm(Vi.sum(0)) / np.sqrt(s_i)\n",
      "/media/tom/ibulygin/miniconda3/envs/microbiome2/lib/python3.9/site-packages/sklearn/manifold/_locally_linear.py:467: RuntimeWarning: invalid value encountered in double_scalars\n",
      "  alpha_i = np.linalg.norm(Vi.sum(0)) / np.sqrt(s_i)\n",
      "/media/tom/ibulygin/miniconda3/envs/microbiome2/lib/python3.9/site-packages/sklearn/manifold/_locally_linear.py:467: RuntimeWarning: invalid value encountered in double_scalars\n",
      "  alpha_i = np.linalg.norm(Vi.sum(0)) / np.sqrt(s_i)\n",
      "/media/tom/ibulygin/miniconda3/envs/microbiome2/lib/python3.9/site-packages/sklearn/manifold/_locally_linear.py:467: RuntimeWarning: invalid value encountered in double_scalars\n",
      "  alpha_i = np.linalg.norm(Vi.sum(0)) / np.sqrt(s_i)\n",
      "/media/tom/ibulygin/miniconda3/envs/microbiome2/lib/python3.9/site-packages/sklearn/manifold/_locally_linear.py:467: RuntimeWarning: invalid value encountered in double_scalars\n",
      "  alpha_i = np.linalg.norm(Vi.sum(0)) / np.sqrt(s_i)\n",
      "/media/tom/ibulygin/miniconda3/envs/microbiome2/lib/python3.9/site-packages/sklearn/manifold/_locally_linear.py:467: RuntimeWarning: invalid value encountered in double_scalars\n",
      "  alpha_i = np.linalg.norm(Vi.sum(0)) / np.sqrt(s_i)\n",
      "/media/tom/ibulygin/miniconda3/envs/microbiome2/lib/python3.9/site-packages/sklearn/manifold/_locally_linear.py:467: RuntimeWarning: invalid value encountered in double_scalars\n",
      "  alpha_i = np.linalg.norm(Vi.sum(0)) / np.sqrt(s_i)\n",
      "/media/tom/ibulygin/miniconda3/envs/microbiome2/lib/python3.9/site-packages/sklearn/manifold/_locally_linear.py:467: RuntimeWarning: invalid value encountered in double_scalars\n",
      "  alpha_i = np.linalg.norm(Vi.sum(0)) / np.sqrt(s_i)\n",
      "/media/tom/ibulygin/miniconda3/envs/microbiome2/lib/python3.9/site-packages/sklearn/manifold/_locally_linear.py:467: RuntimeWarning: invalid value encountered in double_scalars\n",
      "  alpha_i = np.linalg.norm(Vi.sum(0)) / np.sqrt(s_i)\n",
      "/media/tom/ibulygin/miniconda3/envs/microbiome2/lib/python3.9/site-packages/sklearn/manifold/_locally_linear.py:467: RuntimeWarning: invalid value encountered in double_scalars\n",
      "  alpha_i = np.linalg.norm(Vi.sum(0)) / np.sqrt(s_i)\n",
      "6it [06:04, 65.73s/it]"
     ]
    },
    {
     "name": "stdout",
     "output_type": "stream",
     "text": [
      "clust4_dim53 25 lle\n"
     ]
    },
    {
     "name": "stderr",
     "output_type": "stream",
     "text": [
      "\r",
      "7it [07:30, 72.62s/it]"
     ]
    },
    {
     "name": "stdout",
     "output_type": "stream",
     "text": [
      "clust4_dim96 34 lle\n"
     ]
    },
    {
     "name": "stderr",
     "output_type": "stream",
     "text": [
      "\r",
      "8it [08:32, 69.18s/it]"
     ]
    },
    {
     "name": "stdout",
     "output_type": "stream",
     "text": [
      "clust3_dim180 51 lle\n"
     ]
    },
    {
     "name": "stderr",
     "output_type": "stream",
     "text": [
      "9it [09:32, 63.56s/it]\n"
     ]
    }
   ],
   "source": [
    "mf_models = {\n",
    "            'isomap':{'class':Isomap, 'params_grid':{'n_neighbors':[5,10,15,25],\n",
    "                                                      'p':[1,2],\n",
    "                                                      'metric':['minkowski']\n",
    "                                                      }\n",
    "                      },\n",
    "            'spectral':{'class':SpectralEmbedding,'params_grid':{'affinity':['nearest_neighbors', 'rbf'],\n",
    "                                                                 'n_neighbors':[5,10,15,25,50],\n",
    "                                                                  'gamma':[1e-4, 1e-3, 1e-2, None, 1e-1],\n",
    "                                                                  'random_state':[42],\n",
    "                                                                  }\n",
    "                        }, \n",
    "            'lle':{'class':LocallyLinearEmbedding, 'params_grid':{'method':['ltsa','modified', 'standard'],\n",
    "                                                                    'reg':[0.0001, 0.001, 0.01],\n",
    "                                                                   'n_neighbors':[10,15,25,30,50],\n",
    "                                                                   'random_state':[42],\n",
    "                                                                   'eigen_solver':['dense']}\n",
    "                  },\n",
    "            'umap':{'class':UMAP, 'params_grid':{'n_neighbors':[5,10,15,25,50],\n",
    "                                                 'min_dist':[0.1, 0.2, 0.3, 0.4, 0.5],\n",
    "                                                 'random_state':[42],\n",
    "                                                 'metric':['euclidean','manhattan'],\n",
    "                                                 'learning_rate':[0.1, 0.5, 1],\n",
    "                                                 'n_epochs':[2000],\n",
    "                                                 'n_jobs':[1]}\n",
    "                   },\n",
    "    \n",
    "            'tsne':{'class':TSNE, 'params_grid':{'perplexity':[5,10,15,25,30,35],\n",
    "                                                 'random_state':[42],\n",
    "                                                 'early_exaggeration':[1,5,10,15,20,25,30,35],\n",
    "                                                 'init':['pca'],\n",
    "                                                 'metric':['euclidean','manhattan'],\n",
    "                                                 'method':['exact'],\n",
    "                                                 'n_jobs':[1],\n",
    "                                                 'angle':[0.3, 0.6, 0.7],\n",
    "                                                 'n_iter':[2000]\n",
    "                                                 }\n",
    "                   } \n",
    "            }\n",
    "\n",
    "        \n",
    "for mf_type, model in mf_models.items():\n",
    "    results = defaultdict(dict)\n",
    "    \n",
    "    for i,(label, X) in tqdm(enumerate(data_pca.items())):\n",
    "        \n",
    "        dim = intrinsic_dims[label]\n",
    "        print(label, dim, mf_type)\n",
    "        \n",
    "        # to avoid errors in lle\n",
    "        if mf_type=='lle':\n",
    "            model['params_grid']['n_neighbors'] = list(map(lambda x: max(x,dim+1),\\\n",
    "                                                              model['params_grid']['n_neighbors']))\n",
    "            assert len(model['params_grid']['n_neighbors']) > 0\n",
    "\n",
    "        model_class = model['class']\n",
    "        model_param_grid = model['params_grid']\n",
    "        results[label][mf_type] = {}\n",
    "\n",
    "        scores = Parallel(n_jobs=-1)(delayed(transform)(model_class,\n",
    "                                                        X, \n",
    "                                                        dim,\n",
    "                                                        model_params,\n",
    "                                                        scorer) \\\n",
    "                        for model_params in list(ParameterGrid(model_param_grid)))     \n",
    "\n",
    "        results[label][mf_type]['scores'] = scores\n",
    "        results[label][mf_type]['params'] = model_param_grid\n",
    "    \n",
    "    path = os.path.join(embeddings_params_root, f'mf_learning_metrics_results_pca_{mf_type}')\n",
    "    np.save(path, results)"
   ]
  },
  {
   "cell_type": "markdown",
   "metadata": {},
   "source": [
    "# Visualization"
   ]
  },
  {
   "cell_type": "code",
   "execution_count": 5,
   "metadata": {},
   "outputs": [],
   "source": [
    "all_metrics = {metrics_results_name.split('.')[0].split('_')[-1]:np.load(os.path.join(embeddings_params_root, \n",
    "                                                                                      metrics_results_name), \\\n",
    "                                                                                      allow_pickle=True).item() \\\n",
    "                   for metrics_results_name in \\\n",
    "                   filter(lambda x: 'metrics_results_pca' in x, os.listdir(embeddings_params_root))}"
   ]
  },
  {
   "cell_type": "code",
   "execution_count": 13,
   "metadata": {},
   "outputs": [],
   "source": [
    "for mf_type, mf_metrics in all_metrics.items():\n",
    "    mf_metrics_items = mf_metrics.items()\n",
    "    fig, axes = plt.subplots(nrows=1, ncols = len(mf_metrics_items), figsize=(len(mf_metrics_items)*5,5), dpi=200)\n",
    "    for i,(label, mf_label_metrics) in enumerate(mf_metrics_items):\n",
    "        \n",
    "        scores = np.array(mf_label_metrics[mf_type]['scores'])\n",
    "        params = list(ParameterGrid(mf_label_metrics[mf_type]['params']))\n",
    "        dataset_name = label.split('_')[0]\n",
    "        tax_name = label.split('_')[-1]\n",
    "\n",
    "        sc = axes[i].scatter(scores[:,0], scores[:,1], c=scores[:,2])\n",
    "        \n",
    "        axes[i].set_title(f'MF algorithm: {mf_type} \\n Dataset: {dataset_name}, Tax: {tax_name.capitalize()}')\n",
    "        axes[i].set_xlabel('Q_loc')\n",
    "        axes[i].set_ylabel('Q_glob')\n",
    "    fig.colorbar(sc, orientation='vertical')\n",
    "plt.tight_layout()        \n",
    "plt.show()"
   ]
  },
  {
   "cell_type": "markdown",
   "metadata": {},
   "source": [
    " # Save best params"
   ]
  },
  {
   "cell_type": "code",
   "execution_count": 7,
   "metadata": {},
   "outputs": [],
   "source": [
    "best_params = defaultdict(dict)\n",
    "\n",
    "for mf_type, mf_metrics in all_metrics.items():\n",
    "    mf_metrics_items = mf_metrics.items()\n",
    "    for i,(label, mf_label_metrics) in enumerate(mf_metrics_items):\n",
    "        \n",
    "        scores = np.array(mf_label_metrics[mf_type]['scores'])\n",
    "        params = np.array(list(ParameterGrid(mf_label_metrics[mf_type]['params'])))\n",
    "        \n",
    "        dataset_name = label.split('_')[0]\n",
    "        tax_name = label.split('_')[-1]\n",
    "        \n",
    "        maes = scores[:,-1]\n",
    "        qloc = scores[:,0]\n",
    "        qglob = scores[:,1]\n",
    "        \n",
    "        mae_argmin = maes.argmin()\n",
    "        \n",
    "        best_params[label][mf_type] = {}\n",
    "        best_params[label][mf_type]['best_params_mae'] = params[mae_argmin] \n",
    "        best_params[label][mf_type]['mae'] = maes[mae_argmin]\n",
    "        best_params[label][mf_type]['Q_loc'] = qloc[mae_argmin]\n",
    "        best_params[label][mf_type]['Q_glob'] = qglob[mae_argmin]            \n"
   ]
  },
  {
   "cell_type": "code",
   "execution_count": 8,
   "metadata": {},
   "outputs": [],
   "source": [
    "methods_dict = {'tsne':TSNE,\n",
    "                'lle':LocallyLinearEmbedding,\n",
    "                'umap':UMAP,\n",
    "                'isomap':Isomap,\n",
    "                'spectral':SpectralEmbedding}"
   ]
  },
  {
   "cell_type": "code",
   "execution_count": 16,
   "metadata": {},
   "outputs": [],
   "source": [
    "PERCENTILE = 95\n",
    "DATA_PERCENT_THRESHOLD = 0.9\n",
    "\n",
    "for label, best_params_ in tqdm(best_params.items()):\n",
    "    \n",
    "    X = data_pca[label]\n",
    "    X_orig  = data_orig[label]\n",
    "    intdim = intrinsic_dims[label]\n",
    "\n",
    "    for method_name, params_dict in best_params_.items():\n",
    "        \n",
    "        embedding_path = os.path.join(embeddings_root, f'{label}_{method_name}')\n",
    "\n",
    "        if os.path.isfile(embedding_path + '.npy'):\n",
    "            print(embedding_path, f'Loading {method_name} for {label}...') \n",
    "            d = np.load(embedding_path + '.npy', allow_pickle=True).item()\n",
    "            Q_loc = d['Q_loc']\n",
    "            Q_glob = d['Q_glob']\n",
    "            mae = d['knn_mae_loo_orig']\n",
    "            \n",
    "            Q_loc_ = d['Q_loc_']\n",
    "            Q_glob_ = d['Q_glob_']\n",
    "            mae_ = d['knn_mae_loo_orig_']\n",
    "            \n",
    "        else:\n",
    "            print(embedding_path, f'Calculating {method_name} for {label}...')  \n",
    "\n",
    "            d = {}\n",
    "\n",
    "            d['method_name'] = method_name\n",
    "            d['parameters'] = params_dict[f'best_params_mae']\n",
    "            d['label'] = label\n",
    "            d['Q_loc'] = params_dict['Q_loc']\n",
    "            d['Q_glob'] = params_dict['Q_glob']\n",
    "            d['intrinsic_dim'] = intdim\n",
    "\n",
    "            print('Learning...')\n",
    "            d['parameters']['n_jobs'] = -1\n",
    "            Z = methods_dict[method_name](n_components=intdim,\n",
    "                                          **d['parameters']).fit_transform(X)\n",
    "\n",
    "            d['Z'] = Z\n",
    "\n",
    "            mae = KNN_MAE(X_orig, Z, averaging='median', weights='distance')\n",
    "            d['knn_mae_loo_orig'] = mae\n",
    "\n",
    "            N = X_orig.shape[0]\n",
    "            X_ = X_orig.copy()\n",
    "            Z_ = Z.copy() \n",
    "\n",
    "            inliers_indexes = np.arange(N)\n",
    "            maxiter = 20\n",
    "            for _ in range(maxiter):\n",
    "                scoring_list = KNN_MAE(X_, Z_, averaging=None, weights='distance') \n",
    "                q = np.percentile(scoring_list, PERCENTILE)\n",
    "                mask = scoring_list < q\n",
    "                if mask.sum()/N < DATA_PERCENT_THRESHOLD:\n",
    "                    break\n",
    "                X_ = X_[mask]\n",
    "                Z_ = Z_[mask]\n",
    "                inliers_indexes = inliers_indexes[mask]\n",
    "\n",
    "            outliers_indexes = np.array(list(set(np.arange(N)) - set(inliers_indexes)))\n",
    "            Q_loc_, Q_glob_, mae_ = scorer(X_, Z_)\n",
    "\n",
    "            d['inliers_indexes_mae'] = inliers_indexes\n",
    "            d['outliers_indexes_mae'] = outliers_indexes\n",
    "            d['X_'] = X_\n",
    "            d['Z_'] = Z_ # final embedding\n",
    "            d['Q_loc_'] = Q_loc_ \n",
    "            d['Q_glob_'] = Q_glob_ \n",
    "            d['knn_mae_loo_orig_'] = mae_ # final mae\n",
    "\n",
    "            Q_loc = d['Q_loc']\n",
    "            Q_glob = d['Q_glob'] \n",
    "            \n",
    "            np.save(embedding_path, d)   \n",
    "            \n",
    "        print(f'Initial metrics: mae={mae}, Q_loc={Q_loc}, Q_glob={Q_glob}') \n",
    "        print(f'After removing outliers: mae={mae_}, Q_loc={Q_loc_}, Q_glob={Q_glob_}')\n",
    "        print('-----------------------------------------------------------','\\n')\n"
   ]
  }
 ],
 "metadata": {
  "kernelspec": {
   "display_name": "Python 3 (ipykernel)",
   "language": "python",
   "name": "python3"
  },
  "language_info": {
   "codemirror_mode": {
    "name": "ipython",
    "version": 3
   },
   "file_extension": ".py",
   "mimetype": "text/x-python",
   "name": "python",
   "nbconvert_exporter": "python",
   "pygments_lexer": "ipython3",
   "version": "3.9.7"
  }
 },
 "nbformat": 4,
 "nbformat_minor": 4
}
