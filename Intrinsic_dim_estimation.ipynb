{
 "cells": [
  {
   "cell_type": "code",
   "execution_count": null,
   "metadata": {},
   "outputs": [],
   "source": [
    "import os\n",
    "from tqdm import tqdm\n",
    "import pandas as pd\n",
    "import numpy as np\n",
    "import glob\n",
    "import matplotlib.pyplot as plt\n",
    "from sklearn.neighbors import NearestNeighbors\n",
    "\n",
    "from IPython.display import clear_output"
   ]
  },
  {
   "cell_type": "code",
   "execution_count": null,
   "metadata": {},
   "outputs": [],
   "source": [
    "def intrinsic_dim_sample_wise(X, neighb, distance=None, k=5):\n",
    "    \n",
    "    if distance is None:\n",
    "        dist, _ = neighb.kneighbors(X)\n",
    "    else:\n",
    "        dist, _ = neighb.kneighbors(distance)\n",
    "        \n",
    "    dist = dist[:, 1:k+1] \n",
    "    assert np.all(dist > 0)\n",
    "        \n",
    "    d = np.log(dist[:,k - 1: k] / dist[:,:k-1]) \n",
    "    d = d.sum(axis=1) / (k - 2) \n",
    "    d = 1. / (d + 1e-10)\n",
    "    intdim_sample = d\n",
    "    \n",
    "    return intdim_sample\n",
    "\n",
    "def intrinsic_dim_scale_interval(X, neighbours_range, distance=None):\n",
    "    \n",
    "    intdim_k = []\n",
    "    \n",
    "    for k in neighbours_range:\n",
    "        if distance is not None:\n",
    "            neighb = NearestNeighbors(n_neighbors=k+1, \n",
    "                                      n_jobs=-1, \n",
    "                                      metric='precomputed').fit(distance)\n",
    "        else:\n",
    "            neighb = NearestNeighbors(n_neighbors=k+1, \n",
    "                                      n_jobs=-1).fit(X)\n",
    "        m = intrinsic_dim_sample_wise(X, \n",
    "                                      neighb, \n",
    "                                      distance=distance, \n",
    "                                      k=k).mean()\n",
    "        intdim_k.append(m)\n",
    "    return intdim_k\n",
    " \n",
    "    \n",
    "def repeated(func, \n",
    "             X, \n",
    "             nb_iter=100, \n",
    "             random_state=None, \n",
    "             duplicates_thresh=0., \n",
    "             distance=None, \n",
    "             **func_kw):\n",
    "    '''\n",
    "    The goal is to estimate intrinsic dimensionality of data, \n",
    "    the estimation of dimensionality is scale dependent\n",
    "    (depending on how much you zoom into the data distribution \n",
    "    you can find different dimesionality), so they\n",
    "    propose to average it over different scales, \n",
    "    the interval of the scales [k1, k2] are the only \n",
    "    parameters of the algorithm.\n",
    "    '''\n",
    "        \n",
    "    results = []\n",
    "    N = X.shape[0]\n",
    "        \n",
    "    # bootstrap\n",
    "    for i in range(nb_iter) :\n",
    "        random_indexes = np.unique(np.random.choice(np.arange(N), size=N))\n",
    "        Xr = X[random_indexes]\n",
    "        if distance is not None:\n",
    "            distance_r = distance[random_indexes][:,random_indexes]\n",
    "        else:\n",
    "            distance_r = None\n",
    "        results.append(func(Xr, distance=distance_r, **func_kw))\n",
    "    return np.array(results)"
   ]
  },
  {
   "cell_type": "markdown",
   "metadata": {},
   "source": [
    "# Load data"
   ]
  },
  {
   "cell_type": "code",
   "execution_count": null,
   "metadata": {},
   "outputs": [],
   "source": [
    "data_pca = {}\n",
    "for dataset_name in tqdm(['AGP', 'HMP']):\n",
    "    for tax in ['o', 'f', 'g']: \n",
    "        label = f'{dataset_name}_{tax}'\n",
    "        data_pca[label] = np.genfromtxt(f'./results/pca/{label}', delimiter=';')\n",
    "        "
   ]
  },
  {
   "cell_type": "code",
   "execution_count": null,
   "metadata": {},
   "outputs": [],
   "source": [
    "# # uncomment for synthetic data\n",
    "# data_pca = {}\n",
    "\n",
    "# for path in tqdm(glob.glob('./results/pca/synthetic/*')):\n",
    "#     label = path.split('/')[-1]\n",
    "#     data_pca[label] = np.genfromtxt(path, delimiter = ';')"
   ]
  },
  {
   "cell_type": "markdown",
   "metadata": {},
   "source": [
    "# Estimate intrinsic dims"
   ]
  },
  {
   "cell_type": "code",
   "execution_count": null,
   "metadata": {},
   "outputs": [],
   "source": [
    "'''\n",
    "    run the algorithm MLE of Intristic dimension\n",
    "    indims and neigh lists are containing the information about intristic dimension estimators and neighborhood sizes \n",
    "    k1 = 10 # start of interval(included)\n",
    "    k2 = 100 # end of interval(included)\n",
    "'''\n",
    "\n",
    "nb_iter = 50\n",
    "k1 = 5\n",
    "k2 = 100\n",
    "\n",
    "indims = {}\n",
    "neighbors = np.arange(k1, k2, 5)\n",
    "\n",
    "for label,data in tqdm(data_pca.items()): \n",
    "\n",
    "        intdim_k_repeated = repeated(intrinsic_dim_scale_interval, \n",
    "                                     data, \n",
    "                                     distance=None,\n",
    "                                     nb_iter=nb_iter, # nb_iter for bootstrapping \n",
    "                                     neighbours_range=neighbors)\n",
    "        \n",
    "        indims[label] = intdim_k_repeated\n",
    "\n",
    "clear_output()"
   ]
  },
  {
   "cell_type": "markdown",
   "metadata": {},
   "source": [
    "# Plot intrinsic dims"
   ]
  },
  {
   "cell_type": "code",
   "execution_count": null,
   "metadata": {
    "scrolled": false
   },
   "outputs": [],
   "source": [
    "intrinsic_dims_med = {}\n",
    "for label, intdim_k_repeated in indims.items():\n",
    "    \n",
    "    fig = plt.figure(figsize=(10,5), dpi=300)\n",
    "    plt.suptitle(f\"Intrinsic dimension estimate via MLE, {label}\",fontsize=20, y=1)\n",
    "    \n",
    "    floor_n_ceil = np.concatenate((np.floor(np.mean(intdim_k_repeated, axis=0)).astype(int), \n",
    "                                    np.ceil(np.mean(intdim_k_repeated, axis=0)).astype(int)))\n",
    "    \n",
    "    plt.subplot(121)\n",
    "    plt.xlabel(\"Neighborhood cardinality\", fontsize=12)\n",
    "    plt.ylabel(\"Intrinsic dimension\", fontsize=12)\n",
    "    plt.grid(linestyle='dotted')\n",
    "\n",
    "    plt.plot(np.arange(intdim_k_repeated.shape[1]) * 5 + 10,\\\n",
    "             np.mean(intdim_k_repeated, axis=0), 'b')\n",
    "    plt.plot(np.arange(intdim_k_repeated.shape[1]) * 5 + 10,\\\n",
    "             np.mean(intdim_k_repeated, axis=0) + np.std(intdim_k_repeated, axis=0), 'r')\n",
    "    plt.plot(np.arange(intdim_k_repeated.shape[1]) * 5 + 10,\\\n",
    "             np.mean(intdim_k_repeated, axis=0) - np.std(intdim_k_repeated, axis=0), 'r')\n",
    "\n",
    "    plt.subplot(122)\n",
    "    plt.xlabel(\"Intrinsic dimension\", fontsize=20)\n",
    "    plt.grid(linestyle=\"dotted\")\n",
    "\n",
    "    plt.hist(intdim_k_repeated.mean(axis=0))\n",
    "    med = int(np.ceil(np.percentile(intdim_k_repeated.flatten(),50)))\n",
    "    plt.title(f'Median: {med}', y=1)\n",
    "    intrinsic_dims_med[label] = med\n",
    "    plt.show()"
   ]
  },
  {
   "cell_type": "code",
   "execution_count": null,
   "metadata": {},
   "outputs": [],
   "source": [
    "# # uncomment for synthetic data\n",
    "# np.save('./intrinsic_dims_pca_strict_synthetic', intrinsic_dims_med)"
   ]
  },
  {
   "cell_type": "code",
   "execution_count": null,
   "metadata": {},
   "outputs": [],
   "source": [
    "np.save('./intrinsic_dims_pca_strict', intrinsic_dims_med)"
   ]
  }
 ],
 "metadata": {
  "kernelspec": {
   "display_name": "Python 3 (ipykernel)",
   "language": "python",
   "name": "python3"
  },
  "language_info": {
   "codemirror_mode": {
    "name": "ipython",
    "version": 3
   },
   "file_extension": ".py",
   "mimetype": "text/x-python",
   "name": "python",
   "nbconvert_exporter": "python",
   "pygments_lexer": "ipython3",
   "version": "3.8.13"
  }
 },
 "nbformat": 4,
 "nbformat_minor": 2
}
