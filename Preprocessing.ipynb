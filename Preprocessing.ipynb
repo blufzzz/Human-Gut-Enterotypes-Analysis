{
 "cells": [
  {
   "cell_type": "code",
   "execution_count": 17,
   "metadata": {},
   "outputs": [],
   "source": [
    "import os\n",
    "import numpy as np \n",
    "import glob\n",
    "from tqdm import tqdm\n",
    "import pandas as pd\n",
    "import matplotlib.pyplot as plt\n",
    "from utils import project, calculate_Q_mae\n",
    "\n",
    "from warnings import simplefilter\n",
    "simplefilter('ignore')\n",
    "\n",
    "%matplotlib inline"
   ]
  },
  {
   "cell_type": "markdown",
   "metadata": {},
   "source": [
    "# Load and preprocess data"
   ]
  },
  {
   "cell_type": "code",
   "execution_count": 5,
   "metadata": {},
   "outputs": [],
   "source": [
    "data_orig = {}\n",
    "\n",
    "for dataset_name in tqdm(['AGP', 'HMP']):\n",
    "    for tax in ['o', 'f', 'g']: \n",
    "        dataframe = pd.read_csv(f'./data/{dataset_name}/pivot_{tax}_normalized.csv', sep=';')\n",
    "        label = f'{dataset_name}_{tax}'\n",
    "        data_orig[label] = dataframe.drop('Unnamed: 0', axis=1)\n",
    "\n",
    "processed_root = 'data_processed'\n",
    "pca_root = './results/pca/' \n",
    "os.makedirs('data_processed', exist_ok=True)\n",
    "os.makedirs(pca_root, exist_ok=True)"
   ]
  },
  {
   "cell_type": "code",
   "execution_count": 18,
   "metadata": {},
   "outputs": [],
   "source": [
    "# # uncomment to use synthetic data\n",
    "\n",
    "# data_orig = {}\n",
    "# for path in glob.glob('data/synthetic/*'):\n",
    "#     dataframe = pd.read_csv(path, index_col=0)\n",
    "#     label = path.split('/')[-1]\n",
    "#     data_orig[label] = dataframe.drop('target', axis=1)\n",
    "\n",
    "# processed_root = 'data_processed/synthetic'\n",
    "# pca_root = './results/pca/synthetic'\n",
    "# os.makedirs(processed_root, exist_ok=True)\n",
    "# os.makedirs(pca_root, exist_ok=True)"
   ]
  },
  {
   "cell_type": "markdown",
   "metadata": {},
   "source": [
    "# Preprocessing"
   ]
  },
  {
   "cell_type": "code",
   "execution_count": 19,
   "metadata": {},
   "outputs": [
    {
     "name": "stdout",
     "output_type": "stream",
     "text": [
      "clust2_dim53 Orig shape: (3000, 53), processed shape: (3000, 53)\n",
      "clust3_dim96 Orig shape: (3000, 96), processed shape: (3000, 96)\n",
      "clust2_dim96 Orig shape: (3000, 96), processed shape: (3000, 96)\n",
      "clust3_dim53 Orig shape: (3000, 53), processed shape: (3000, 53)\n",
      "clust4_dim180 Orig shape: (3000, 180), processed shape: (3000, 180)\n",
      "clust2_dim180 Orig shape: (3000, 180), processed shape: (3000, 180)\n",
      "clust4_dim53 Orig shape: (3000, 53), processed shape: (3000, 53)\n",
      "clust4_dim96 Orig shape: (3000, 96), processed shape: (3000, 96)\n",
      "clust3_dim180 Orig shape: (3000, 180), processed shape: (3000, 180)\n"
     ]
    }
   ],
   "source": [
    "RARITY_THRESHOLD = 0.01\n",
    "STD_THRESHOLD = 1e-3\n",
    "\n",
    "preprocessed_data = {}\n",
    "\n",
    "for label, df in data_orig.items():\n",
    "            \n",
    "    df_proc = df.copy()\n",
    "    df_proc.drop_duplicates(inplace=True)\n",
    "    N = df_proc.shape[0]\n",
    "    # too rare\n",
    "    rare_otu_mask = (df_proc > 0).sum(0) / N < RARITY_THRESHOLD\n",
    "    # too low std\n",
    "    std_otu_mask = df_proc.std(0) < STD_THRESHOLD\n",
    "    mask = rare_otu_mask * std_otu_mask\n",
    "    df_proc = df_proc.iloc[:,~mask.values]\n",
    "    preprocessed_data[label] = df_proc\n",
    "    \n",
    "    path = os.path.join(processed_root, f'{label}.csv')\n",
    "    df_proc.to_csv(path)\n",
    "    \n",
    "    print(f'{label} Orig shape: {df.shape}, processed shape: {df_proc.shape}')"
   ]
  },
  {
   "cell_type": "markdown",
   "metadata": {},
   "source": [
    "# PCA"
   ]
  },
  {
   "cell_type": "code",
   "execution_count": 25,
   "metadata": {},
   "outputs": [],
   "source": [
    "SAVE=True\n",
    "\n",
    "plt.figure()\n",
    "plt.title(f\"Cumulative explained variance\", fontsize=12)\n",
    "plt.xlabel(\"Number of PCs\", fontsize=12)\n",
    "plt.hlines(0.99,0,300,linestyle='--')\n",
    "\n",
    "plt.grid(linestyle=\"dotted\")\n",
    "\n",
    "for label, df in preprocessed_data.items():\n",
    "    \n",
    "    data_projected, pca, pca_proj, mae = project(df)\n",
    "       \n",
    "    d_pca = data_projected.shape[1]\n",
    "    d = df.shape[1]\n",
    "    \n",
    "    plt.plot(np.cumsum(pca.explained_variance_ratio_), \n",
    "            linewidth=1, \n",
    "            label=label,\n",
    "            alpha=0.6)  \n",
    "    \n",
    "    Q_loc, Q_glob, _ = calculate_Q_mae(df.values, data_projected)\n",
    "    \n",
    "    \n",
    "    print(f'For {label}, dim orig: {d}, dim PCA: {d_pca}, mae: {np.round(mae,3)}, Q_loc: {np.round(Q_loc,3)}, Q_glob: {np.round(Q_glob,3)}')\n",
    "    \n",
    "    if SAVE:\n",
    "        path = os.path.join(pca_root, f'{label}')\n",
    "        np.savetxt(path, data_projected, delimiter = ';')\n",
    "\n",
    "plt.xscale('log')\n",
    "plt.legend(fontsize=12)       \n",
    "plt.show()    "
   ]
  }
 ],
 "metadata": {
  "kernelspec": {
   "display_name": "Python 3 (ipykernel)",
   "language": "python",
   "name": "python3"
  },
  "language_info": {
   "codemirror_mode": {
    "name": "ipython",
    "version": 3
   },
   "file_extension": ".py",
   "mimetype": "text/x-python",
   "name": "python",
   "nbconvert_exporter": "python",
   "pygments_lexer": "ipython3",
   "version": "3.9.7"
  }
 },
 "nbformat": 4,
 "nbformat_minor": 4
}
